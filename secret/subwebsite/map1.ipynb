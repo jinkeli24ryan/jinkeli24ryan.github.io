{
 "cells": [
  {
   "cell_type": "code",
   "execution_count": 3,
   "metadata": {},
   "outputs": [
    {
     "name": "stdout",
     "output_type": "stream",
     "text": [
      "'027b27a11ad54d1e67fe44d99336064.jpg', '03407d574f954dd2899999f97c33b6c.jpg', '0d5c38db44ef3f4753537996abb4fe6.jpg', '11e5bb9ad80ca93b506fd376a940f73.jpg', '12123728f0d4d3aee17c6fed8495b46.jpg', '12ca17197cf1e9ec03a5284282a5550.jpg', '1aedd411cd245b37d93a97fd5fc5dbd.jpg', '1e6822894128022af8d229ebbb8c03e.jpg', '1ec59612831960ab8725148d0748b20.jpg', '20c64d598a32177e890d26168abdac8.jpg', '237177c537da56ad656361b23de0dbc.jpg', '23f944b8d073631b7f2b0fc7a398f25.jpg', '247d8b13f20fd7c1085e5a2e0d632b5.jpg', '282f823cfa889fb9f1c7e5e8cecb7f8.jpg', '2a64a0d4bba09ed8f300fe507c347ca.jpg', '2f172c8156e81eed1a4387566f255b2.jpg', '37df4267da8aa106572291a62870c31.jpg', '3c63d7f37adb39aa4d2dade4e29e2f3.jpg', '3f3a0650a210780a647f09fc1e9cfb1.jpg', '44635ab6502adbe55441b02be28f5c1.jpg', '47db7bcda8be68dc0d5a69a23fc72b4.jpg', '4b07d5e7206c2c767f0305d9f28a104.jpg', '4bc19c2b2637bca019de1741ae963ca.jpg', '54d8be6a038bd59d3f938f7b5695189.jpg', '55d8846392a9af20bed33b3640d6bab.jpg', '579de05fd424d0102aab357bbfaff03.jpg', '5f3b641501a18d66f1414be89399b65.jpg', '66e33f46ff5dee68cf2a100755d3634.jpg', '672e13854e40f9efca67150506c25b5.jpg', '6774909268acd1d9af1db4c72f44b5c.jpg', '67ecf3beec672067133e90ad2796860.jpg', '696291d0b897914ebe8ba1515339101.jpg', '6def1f7233954d8bead1e67edff562c.jpg', '7c74cf80b0faa2e6e1615a69220f9c6.jpg', '7d488edd7ee69e1d0d553a0a53831e5.jpg', '7f21e7821955e0fab9cc8d93a3213d4.jpg', '816ead95982320aeb1a8447111a264e.jpg', '832e650ae6da3ac3e54554e77102287.jpg', '83d0504cbd6d46dfe4d745399178f71.jpg', '85161d914d854d97418c91f2dd20916.jpg', '860f2549af9757e3009e024fff650a4.jpg', '875c71392d42910da9995116bd572bc.jpg', '87722849fca55e7301ad41a1b065532.jpg', '881778008856dce2c97acd1504317fd.jpg', '8a4afa337fad1b7045dd19e2f8e5324.jpg', '8ad3fdc5e81d173d6922f304af7c360.jpg', '8b84861fa531975f5f6e227abb97e28.jpg', '8c735dbf69519c2cf2adf6fa9f128e1.jpg', '9029246fba0b3ce9cd73fa75387c9a8.jpg', '93084268405e01d5d57a764dfc0aa6f.jpg', '9333b50ccbebb17d71a46530ebe71f0.jpg', '98b056d7d5c6e9e7a52c4a46ab1271e.jpg', '9ab515eb300ef2d38be3a64f70fddde.jpg', '9f62f0d6f0046178664be87da6bdef0.jpg', 'a13745737d33c89f7866f0a3b8d8e6a.jpg', 'a138aafe1810d69d1345c39dad9dab3.jpg', 'a774ffe24cdefec56d1762e64747d82.jpg', 'ad39000e19d7362307675d6c1284035.jpg', 'afdea077bdece24108cd01a18e785f7.jpg', 'b129898bd885a0adfee6c014314376e.jpg', 'b8a14c310df3a54b932d274dd4c7c1f.jpg', 'bangkurai.jpg', 'bankok.jpg', 'bcb2028b9967a2640e5513bfee95923.jpg', 'beijing.jpg', 'bf7fade22078483ea83882e6ab07a6b.jpg', 'c0ab95257cb522539f9c551a73e18f1.jpg', 'c94da3774bacef8d1badbd3efd00993.jpg', 'cd2bbe11ce9a679dec3882f6846996c.jpg', 'ce37ee21bbd2771f631e0d016772665.jpg', 'cfb188ce8fbd784af8fa88a31a8ea8b.jpg', 'chengdu.jpg', 'd1b228fc0fb96282d7e974499d25e28.jpg', 'd51f47d4652a961655259df2460a32e.jpg', 'd8aacbe1026e5a748a1c02b336e4170.jpg', 'dalian.jpg', 'e1b0354918b2422c938505e9cc16c04.jpg', 'e284846c1f5718c69b41ab29156e943.jpg', 'e38f550381165fb97e366d9f7bd8e5f.jpg', 'e78fd56dc3db261a734d280d9c57e33.jpg', 'e7ce4b008028f3420d760b359db513f.jpg', 'e942eb1021a9b2778c7213f4c74a452.jpg', 'e9ca6bad4938056a68171223f007268.jpg', 'ec2268023515347bf9bd3788d25b927.jpg', 'f28b462592cbc0739693ecb19d8f3cf.jpg', 'f36ad318fd76ae58f67977bba6b1cb9.jpg', 'f39a4324e5f3e9a41197524b7706c1f.jpg', 'f491eee828054efc816a49578c6d348.jpg', 'fuji.jpg', 'hefei.jpg', 'jiaxing.jpg', 'kobe.jpg', 'liaocheng.jpg', 'nara.jpg', 'osaka.jpg', 'pattaya.jpg', 'sanya.jpg', 'shanghai.jpg', 'shenzhen.jpg', 'suzhou.jpg', 'tokyo.jpg', 'zhejiang.jpg'\n"
     ]
    }
   ],
   "source": [
    "import os\n",
    "\n",
    "# 文件夹路径\n",
    "folder_path = 'images'\n",
    "\n",
    "# 获取文件夹中所有图片文件名\n",
    "image_files = [f for f in os.listdir(folder_path) if os.path.isfile(os.path.join(folder_path, f)) and f.lower().endswith(('.png', '.jpg', '.jpeg', '.gif', '.bmp'))]\n",
    "\n",
    "# 输出图片文件名，以符合格式的方式\n",
    "formatted_image_list = ', '.join([f\"'{file}'\" for file in image_files])\n",
    "print(formatted_image_list)\n"
   ]
  },
  {
   "cell_type": "code",
   "execution_count": null,
   "metadata": {},
   "outputs": [],
   "source": []
  }
 ],
 "metadata": {
  "kernelspec": {
   "display_name": "Python 3",
   "language": "python",
   "name": "python3"
  },
  "language_info": {
   "codemirror_mode": {
    "name": "ipython",
    "version": 3
   },
   "file_extension": ".py",
   "mimetype": "text/x-python",
   "name": "python",
   "nbconvert_exporter": "python",
   "pygments_lexer": "ipython3",
   "version": "3.9.13"
  }
 },
 "nbformat": 4,
 "nbformat_minor": 2
}
